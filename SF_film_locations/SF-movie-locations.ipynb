{
 "cells": [
  {
   "cell_type": "code",
   "execution_count": 20,
   "metadata": {},
   "outputs": [
    {
     "data": {
      "text/plain": [
       "Title                 3414\n",
       "Release Year          3414\n",
       "Locations             3306\n",
       "Fun Facts              898\n",
       "Production Company    3410\n",
       "Distributor           3212\n",
       "Director              3414\n",
       "Writer                3404\n",
       "Actor 1               3406\n",
       "Actor 2               3228\n",
       "Actor 3               2470\n",
       "dtype: int64"
      ]
     },
     "execution_count": 20,
     "metadata": {},
     "output_type": "execute_result"
    }
   ],
   "source": [
    "# Dependencies and Setup\n",
    "import pandas as pd\n",
    "from sqlalchemy import create_engine\n",
    "\n",
    "# File to Load (Remember to Change These)\n",
    "SF_location_data_to_load = \"Resources/film-locations-in-san-francisco.csv\"\n",
    "\n",
    "\n",
    "# Read School and Student Data File and store into Pandas Data Frames\n",
    "location_data = pd.read_csv(SF_location_data_to_load)\n",
    "\n",
    "# Combine the data into a single dataset\n",
    "\n",
    "location_data.count()"
   ]
  },
  {
   "cell_type": "code",
   "execution_count": 21,
   "metadata": {},
   "outputs": [
    {
     "data": {
      "text/plain": [
       "Title                 1975\n",
       "Release Year          1975\n",
       "Locations             1920\n",
       "Fun Facts              559\n",
       "Production Company    1973\n",
       "Distributor           1861\n",
       "Director              1975\n",
       "Writer                1970\n",
       "Actor 1               1969\n",
       "Actor 2               1854\n",
       "Actor 3               1435\n",
       "dtype: int64"
      ]
     },
     "execution_count": 21,
     "metadata": {},
     "output_type": "execute_result"
    }
   ],
   "source": [
    "location_data.drop_duplicates(keep=\"first\",inplace=True)\n",
    "location_data.count()"
   ]
  },
  {
   "cell_type": "code",
   "execution_count": 22,
   "metadata": {},
   "outputs": [
    {
     "data": {
      "text/plain": [
       "title           1920\n",
       "release_year    1920\n",
       "locations       1920\n",
       "dtype: int64"
      ]
     },
     "execution_count": 22,
     "metadata": {},
     "output_type": "execute_result"
    }
   ],
   "source": [
    "location_data_cols = ['Title','Release Year','Locations']\n",
    "location_data_transformed= location_data[location_data_cols].copy()\n",
    "location_data_transformed = location_data_transformed.dropna()\n",
    "location_data_transformed.index.name = 'id'\n",
    "location_data_transformed.columns = ['title', 'release_year','locations']\n",
    "location_data_transformed.count()\n"
   ]
  },
  {
   "cell_type": "code",
   "execution_count": 23,
   "metadata": {},
   "outputs": [
    {
     "data": {
      "text/html": [
       "<div>\n",
       "<style scoped>\n",
       "    .dataframe tbody tr th:only-of-type {\n",
       "        vertical-align: middle;\n",
       "    }\n",
       "\n",
       "    .dataframe tbody tr th {\n",
       "        vertical-align: top;\n",
       "    }\n",
       "\n",
       "    .dataframe thead th {\n",
       "        text-align: right;\n",
       "    }\n",
       "</style>\n",
       "<table border=\"1\" class=\"dataframe\">\n",
       "  <thead>\n",
       "    <tr style=\"text-align: right;\">\n",
       "      <th></th>\n",
       "      <th>title</th>\n",
       "      <th>release_year</th>\n",
       "      <th>locations</th>\n",
       "    </tr>\n",
       "    <tr>\n",
       "      <th>id</th>\n",
       "      <th></th>\n",
       "      <th></th>\n",
       "      <th></th>\n",
       "    </tr>\n",
       "  </thead>\n",
       "  <tbody>\n",
       "    <tr>\n",
       "      <th>0</th>\n",
       "      <td>180</td>\n",
       "      <td>2011</td>\n",
       "      <td>Epic Roasthouse (399 Embarcadero)</td>\n",
       "    </tr>\n",
       "    <tr>\n",
       "      <th>1</th>\n",
       "      <td>180</td>\n",
       "      <td>2011</td>\n",
       "      <td>Mason &amp; California Streets (Nob Hill)</td>\n",
       "    </tr>\n",
       "    <tr>\n",
       "      <th>2</th>\n",
       "      <td>180</td>\n",
       "      <td>2011</td>\n",
       "      <td>Justin Herman Plaza</td>\n",
       "    </tr>\n",
       "    <tr>\n",
       "      <th>3</th>\n",
       "      <td>180</td>\n",
       "      <td>2011</td>\n",
       "      <td>200 block Market Street</td>\n",
       "    </tr>\n",
       "    <tr>\n",
       "      <th>4</th>\n",
       "      <td>180</td>\n",
       "      <td>2011</td>\n",
       "      <td>City Hall</td>\n",
       "    </tr>\n",
       "  </tbody>\n",
       "</table>\n",
       "</div>"
      ],
      "text/plain": [
       "   title  release_year                              locations\n",
       "id                                                           \n",
       "0    180          2011      Epic Roasthouse (399 Embarcadero)\n",
       "1    180          2011  Mason & California Streets (Nob Hill)\n",
       "2    180          2011                    Justin Herman Plaza\n",
       "3    180          2011                200 block Market Street\n",
       "4    180          2011                              City Hall"
      ]
     },
     "execution_count": 23,
     "metadata": {},
     "output_type": "execute_result"
    }
   ],
   "source": [
    "location_data_transformed.head()\n"
   ]
  },
  {
   "cell_type": "code",
   "execution_count": 24,
   "metadata": {},
   "outputs": [],
   "source": [
    "location_data_transformed.to_csv(\"SF_locations.csv\")"
   ]
  },
  {
   "cell_type": "code",
   "execution_count": 17,
   "metadata": {},
   "outputs": [],
   "source": [
    "connection_string = \"postgres:qzectbu@localhost:5432/movie_db\"\n",
    "engine = create_engine(f'postgresql://{connection_string}')"
   ]
  },
  {
   "cell_type": "code",
   "execution_count": 18,
   "metadata": {},
   "outputs": [
    {
     "data": {
      "text/plain": [
       "['sf_movie_locations']"
      ]
     },
     "execution_count": 18,
     "metadata": {},
     "output_type": "execute_result"
    }
   ],
   "source": [
    "# Confirm tables\n",
    "engine.table_names()"
   ]
  },
  {
   "cell_type": "code",
   "execution_count": 19,
   "metadata": {},
   "outputs": [],
   "source": [
    "location_data_transformed.to_sql(name='sf_movie_locations', con=engine, if_exists='append', index=True)"
   ]
  },
  {
   "cell_type": "code",
   "execution_count": null,
   "metadata": {},
   "outputs": [],
   "source": []
  }
 ],
 "metadata": {
  "kernelspec": {
   "display_name": "Python 3",
   "language": "python",
   "name": "python3"
  },
  "language_info": {
   "codemirror_mode": {
    "name": "ipython",
    "version": 3
   },
   "file_extension": ".py",
   "mimetype": "text/x-python",
   "name": "python",
   "nbconvert_exporter": "python",
   "pygments_lexer": "ipython3",
   "version": "3.6.9"
  }
 },
 "nbformat": 4,
 "nbformat_minor": 2
}
