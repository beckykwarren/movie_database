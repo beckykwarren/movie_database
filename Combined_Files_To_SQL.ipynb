{
 "cells": [
  {
   "cell_type": "code",
   "execution_count": 1,
   "metadata": {},
   "outputs": [],
   "source": [
    "# Dependencies\n",
    "import pandas as pd\n",
    "from sqlalchemy import create_engine\n",
    "from config import pw"
   ]
  },
  {
   "cell_type": "markdown",
   "metadata": {},
   "source": [
    "# Read separate csv files into dataframes"
   ]
  },
  {
   "cell_type": "markdown",
   "metadata": {},
   "source": [
    "## Box Office Mojo\n",
    "* Rank = movies are ranked by worldwide gross revenue\n",
    "* Grossing amounts are in millions of dollars\n",
    "* '^' in the Year column indicates that the movie made their grossing amount over multiple releases"
   ]
  },
  {
   "cell_type": "code",
   "execution_count": 3,
   "metadata": {},
   "outputs": [
    {
     "name": "stdout",
     "output_type": "stream",
     "text": [
      "700\n"
     ]
    },
    {
     "data": {
      "text/html": [
       "<div>\n",
       "<style scoped>\n",
       "    .dataframe tbody tr th:only-of-type {\n",
       "        vertical-align: middle;\n",
       "    }\n",
       "\n",
       "    .dataframe tbody tr th {\n",
       "        vertical-align: top;\n",
       "    }\n",
       "\n",
       "    .dataframe thead th {\n",
       "        text-align: right;\n",
       "    }\n",
       "</style>\n",
       "<table border=\"1\" class=\"dataframe\">\n",
       "  <thead>\n",
       "    <tr style=\"text-align: right;\">\n",
       "      <th></th>\n",
       "      <th>rank</th>\n",
       "      <th>title</th>\n",
       "      <th>studio</th>\n",
       "      <th>worldwide</th>\n",
       "      <th>domestic</th>\n",
       "      <th>perc_domestic</th>\n",
       "      <th>overseas</th>\n",
       "      <th>perc_overseas</th>\n",
       "      <th>year</th>\n",
       "    </tr>\n",
       "  </thead>\n",
       "  <tbody>\n",
       "    <tr>\n",
       "      <th>0</th>\n",
       "      <td>1</td>\n",
       "      <td>Avengers: Endgame</td>\n",
       "      <td>BV</td>\n",
       "      <td>$2,796.3</td>\n",
       "      <td>$858.4</td>\n",
       "      <td>30.7%</td>\n",
       "      <td>$1,937.9</td>\n",
       "      <td>69.3%</td>\n",
       "      <td>2019</td>\n",
       "    </tr>\n",
       "    <tr>\n",
       "      <th>1</th>\n",
       "      <td>2</td>\n",
       "      <td>Avatar</td>\n",
       "      <td>Fox</td>\n",
       "      <td>$2,789.7</td>\n",
       "      <td>$760.5</td>\n",
       "      <td>27.3%</td>\n",
       "      <td>$2,029.2</td>\n",
       "      <td>72.7%</td>\n",
       "      <td>2009^</td>\n",
       "    </tr>\n",
       "    <tr>\n",
       "      <th>2</th>\n",
       "      <td>3</td>\n",
       "      <td>Titanic</td>\n",
       "      <td>Par.</td>\n",
       "      <td>$2,187.5</td>\n",
       "      <td>$659.4</td>\n",
       "      <td>30.1%</td>\n",
       "      <td>$1,528.1</td>\n",
       "      <td>69.9%</td>\n",
       "      <td>1997^</td>\n",
       "    </tr>\n",
       "    <tr>\n",
       "      <th>3</th>\n",
       "      <td>4</td>\n",
       "      <td>Star Wars: The Force Awakens</td>\n",
       "      <td>BV</td>\n",
       "      <td>$2,068.2</td>\n",
       "      <td>$936.7</td>\n",
       "      <td>45.3%</td>\n",
       "      <td>$1,131.6</td>\n",
       "      <td>54.7%</td>\n",
       "      <td>2015</td>\n",
       "    </tr>\n",
       "    <tr>\n",
       "      <th>4</th>\n",
       "      <td>5</td>\n",
       "      <td>Avengers: Infinity War</td>\n",
       "      <td>BV</td>\n",
       "      <td>$2,048.4</td>\n",
       "      <td>$678.8</td>\n",
       "      <td>33.1%</td>\n",
       "      <td>$1,369.5</td>\n",
       "      <td>66.9%</td>\n",
       "      <td>2018</td>\n",
       "    </tr>\n",
       "  </tbody>\n",
       "</table>\n",
       "</div>"
      ],
      "text/plain": [
       "   rank                         title studio worldwide domestic perc_domestic  \\\n",
       "0     1             Avengers: Endgame     BV  $2,796.3   $858.4         30.7%   \n",
       "1     2                        Avatar    Fox  $2,789.7   $760.5         27.3%   \n",
       "2     3                       Titanic   Par.  $2,187.5   $659.4         30.1%   \n",
       "3     4  Star Wars: The Force Awakens     BV  $2,068.2   $936.7         45.3%   \n",
       "4     5        Avengers: Infinity War     BV  $2,048.4   $678.8         33.1%   \n",
       "\n",
       "   overseas perc_overseas   year  \n",
       "0  $1,937.9         69.3%   2019  \n",
       "1  $2,029.2         72.7%  2009^  \n",
       "2  $1,528.1         69.9%  1997^  \n",
       "3  $1,131.6         54.7%   2015  \n",
       "4  $1,369.5         66.9%   2018  "
      ]
     },
     "execution_count": 3,
     "metadata": {},
     "output_type": "execute_result"
    }
   ],
   "source": [
    "# AF Top 700 grossing films - Box Office Mojo\n",
    "top700_mojo_path = 'Resources/top700_grossing_films_mojo.csv'\n",
    "top700_mojo = pd.read_csv(top700_mojo_path)\n",
    "print(len(top700_mojo))\n",
    "top700_mojo.head()"
   ]
  },
  {
   "cell_type": "markdown",
   "metadata": {},
   "source": [
    "## Data.World data"
   ]
  },
  {
   "cell_type": "code",
   "execution_count": 4,
   "metadata": {},
   "outputs": [
    {
     "name": "stdout",
     "output_type": "stream",
     "text": [
      "1920\n"
     ]
    },
    {
     "data": {
      "text/html": [
       "<div>\n",
       "<style scoped>\n",
       "    .dataframe tbody tr th:only-of-type {\n",
       "        vertical-align: middle;\n",
       "    }\n",
       "\n",
       "    .dataframe tbody tr th {\n",
       "        vertical-align: top;\n",
       "    }\n",
       "\n",
       "    .dataframe thead th {\n",
       "        text-align: right;\n",
       "    }\n",
       "</style>\n",
       "<table border=\"1\" class=\"dataframe\">\n",
       "  <thead>\n",
       "    <tr style=\"text-align: right;\">\n",
       "      <th></th>\n",
       "      <th>id</th>\n",
       "      <th>title</th>\n",
       "      <th>release_year</th>\n",
       "      <th>locations</th>\n",
       "    </tr>\n",
       "  </thead>\n",
       "  <tbody>\n",
       "    <tr>\n",
       "      <th>0</th>\n",
       "      <td>0</td>\n",
       "      <td>180</td>\n",
       "      <td>2011</td>\n",
       "      <td>Epic Roasthouse (399 Embarcadero)</td>\n",
       "    </tr>\n",
       "    <tr>\n",
       "      <th>1</th>\n",
       "      <td>1</td>\n",
       "      <td>180</td>\n",
       "      <td>2011</td>\n",
       "      <td>Mason &amp; California Streets (Nob Hill)</td>\n",
       "    </tr>\n",
       "    <tr>\n",
       "      <th>2</th>\n",
       "      <td>2</td>\n",
       "      <td>180</td>\n",
       "      <td>2011</td>\n",
       "      <td>Justin Herman Plaza</td>\n",
       "    </tr>\n",
       "    <tr>\n",
       "      <th>3</th>\n",
       "      <td>3</td>\n",
       "      <td>180</td>\n",
       "      <td>2011</td>\n",
       "      <td>200 block Market Street</td>\n",
       "    </tr>\n",
       "    <tr>\n",
       "      <th>4</th>\n",
       "      <td>4</td>\n",
       "      <td>180</td>\n",
       "      <td>2011</td>\n",
       "      <td>City Hall</td>\n",
       "    </tr>\n",
       "  </tbody>\n",
       "</table>\n",
       "</div>"
      ],
      "text/plain": [
       "   id title  release_year                              locations\n",
       "0   0   180          2011      Epic Roasthouse (399 Embarcadero)\n",
       "1   1   180          2011  Mason & California Streets (Nob Hill)\n",
       "2   2   180          2011                    Justin Herman Plaza\n",
       "3   3   180          2011                200 block Market Street\n",
       "4   4   180          2011                              City Hall"
      ]
     },
     "execution_count": 4,
     "metadata": {},
     "output_type": "execute_result"
    }
   ],
   "source": [
    "# BW San Francisco movie locations - data.world\n",
    "sf_film_locations_path = 'Resources/SF_locations.csv'\n",
    "sf_film_locations = pd.read_csv(sf_film_locations_path)\n",
    "print(len(sf_film_locations))\n",
    "sf_film_locations.head()"
   ]
  },
  {
   "cell_type": "markdown",
   "metadata": {},
   "source": [
    "## Kaggle data\n",
    "Movie budgets"
   ]
  },
  {
   "cell_type": "code",
   "execution_count": 5,
   "metadata": {},
   "outputs": [
    {
     "name": "stdout",
     "output_type": "stream",
     "text": [
      "45351\n"
     ]
    },
    {
     "data": {
      "text/html": [
       "<div>\n",
       "<style scoped>\n",
       "    .dataframe tbody tr th:only-of-type {\n",
       "        vertical-align: middle;\n",
       "    }\n",
       "\n",
       "    .dataframe tbody tr th {\n",
       "        vertical-align: top;\n",
       "    }\n",
       "\n",
       "    .dataframe thead th {\n",
       "        text-align: right;\n",
       "    }\n",
       "</style>\n",
       "<table border=\"1\" class=\"dataframe\">\n",
       "  <thead>\n",
       "    <tr style=\"text-align: right;\">\n",
       "      <th></th>\n",
       "      <th>title</th>\n",
       "      <th>budget</th>\n",
       "      <th>revenue</th>\n",
       "      <th>release_date</th>\n",
       "      <th>imdb_id</th>\n",
       "      <th>original_language</th>\n",
       "    </tr>\n",
       "  </thead>\n",
       "  <tbody>\n",
       "    <tr>\n",
       "      <th>0</th>\n",
       "      <td>Toy Story</td>\n",
       "      <td>30000000</td>\n",
       "      <td>373554033.0</td>\n",
       "      <td>1995-10-30</td>\n",
       "      <td>tt0114709</td>\n",
       "      <td>en</td>\n",
       "    </tr>\n",
       "    <tr>\n",
       "      <th>1</th>\n",
       "      <td>Jumanji</td>\n",
       "      <td>65000000</td>\n",
       "      <td>262797249.0</td>\n",
       "      <td>1995-12-15</td>\n",
       "      <td>tt0113497</td>\n",
       "      <td>en</td>\n",
       "    </tr>\n",
       "    <tr>\n",
       "      <th>2</th>\n",
       "      <td>Grumpier Old Men</td>\n",
       "      <td>0</td>\n",
       "      <td>0.0</td>\n",
       "      <td>1995-12-22</td>\n",
       "      <td>tt0113228</td>\n",
       "      <td>en</td>\n",
       "    </tr>\n",
       "    <tr>\n",
       "      <th>3</th>\n",
       "      <td>Waiting to Exhale</td>\n",
       "      <td>16000000</td>\n",
       "      <td>81452156.0</td>\n",
       "      <td>1995-12-22</td>\n",
       "      <td>tt0114885</td>\n",
       "      <td>en</td>\n",
       "    </tr>\n",
       "    <tr>\n",
       "      <th>4</th>\n",
       "      <td>Father of the Bride Part II</td>\n",
       "      <td>0</td>\n",
       "      <td>76578911.0</td>\n",
       "      <td>1995-02-10</td>\n",
       "      <td>tt0113041</td>\n",
       "      <td>en</td>\n",
       "    </tr>\n",
       "  </tbody>\n",
       "</table>\n",
       "</div>"
      ],
      "text/plain": [
       "                         title    budget      revenue release_date    imdb_id  \\\n",
       "0                    Toy Story  30000000  373554033.0   1995-10-30  tt0114709   \n",
       "1                      Jumanji  65000000  262797249.0   1995-12-15  tt0113497   \n",
       "2             Grumpier Old Men         0          0.0   1995-12-22  tt0113228   \n",
       "3            Waiting to Exhale  16000000   81452156.0   1995-12-22  tt0114885   \n",
       "4  Father of the Bride Part II         0   76578911.0   1995-02-10  tt0113041   \n",
       "\n",
       "  original_language  \n",
       "0                en  \n",
       "1                en  \n",
       "2                en  \n",
       "3                en  \n",
       "4                en  "
      ]
     },
     "execution_count": 5,
     "metadata": {},
     "output_type": "execute_result"
    }
   ],
   "source": [
    "movie_budget_path = 'Resources/movies_clean.csv'\n",
    "movie_budgets = pd.read_csv(movie_budget_path)\n",
    "movie_budgets = movie_budgets[['title', 'budget', 'revenue', 'release_date', 'imdb_id', 'original_language']]\n",
    "movie_budgets = movie_budgets.dropna(axis=0, how='any', thresh=None, subset=None, inplace=False)\n",
    "print(len(movie_budgets))\n",
    "movie_budgets.head()"
   ]
  },
  {
   "cell_type": "markdown",
   "metadata": {},
   "source": [
    "### OMDB data\n",
    "Movie runtime data"
   ]
  },
  {
   "cell_type": "code",
   "execution_count": 6,
   "metadata": {},
   "outputs": [
    {
     "name": "stdout",
     "output_type": "stream",
     "text": [
      "654\n"
     ]
    },
    {
     "data": {
      "text/html": [
       "<div>\n",
       "<style scoped>\n",
       "    .dataframe tbody tr th:only-of-type {\n",
       "        vertical-align: middle;\n",
       "    }\n",
       "\n",
       "    .dataframe tbody tr th {\n",
       "        vertical-align: top;\n",
       "    }\n",
       "\n",
       "    .dataframe thead th {\n",
       "        text-align: right;\n",
       "    }\n",
       "</style>\n",
       "<table border=\"1\" class=\"dataframe\">\n",
       "  <thead>\n",
       "    <tr style=\"text-align: right;\">\n",
       "      <th></th>\n",
       "      <th>title</th>\n",
       "      <th>genre</th>\n",
       "      <th>runtime</th>\n",
       "      <th>awards</th>\n",
       "      <th>director</th>\n",
       "    </tr>\n",
       "  </thead>\n",
       "  <tbody>\n",
       "    <tr>\n",
       "      <th>0</th>\n",
       "      <td>Avengers: Endgame</td>\n",
       "      <td>Action, Adventure, Sci-Fi</td>\n",
       "      <td>181.0</td>\n",
       "      <td>NaN</td>\n",
       "      <td>Anthony Russo, Joe Russo</td>\n",
       "    </tr>\n",
       "    <tr>\n",
       "      <th>1</th>\n",
       "      <td>Avatar</td>\n",
       "      <td>Action, Adventure, Fantasy, Sci-Fi</td>\n",
       "      <td>162.0</td>\n",
       "      <td>Won 3 Oscars. Another 85 wins &amp; 128 nominations.</td>\n",
       "      <td>James Cameron</td>\n",
       "    </tr>\n",
       "    <tr>\n",
       "      <th>2</th>\n",
       "      <td>Titanic</td>\n",
       "      <td>Drama, Romance</td>\n",
       "      <td>194.0</td>\n",
       "      <td>Won 11 Oscars. Another 111 wins &amp; 77 nominations.</td>\n",
       "      <td>James Cameron</td>\n",
       "    </tr>\n",
       "    <tr>\n",
       "      <th>3</th>\n",
       "      <td>Star Wars: The Force Awakens World Premiere Re...</td>\n",
       "      <td>NaN</td>\n",
       "      <td>NaN</td>\n",
       "      <td>NaN</td>\n",
       "      <td>NaN</td>\n",
       "    </tr>\n",
       "    <tr>\n",
       "      <th>4</th>\n",
       "      <td>Avengers: Infinity War</td>\n",
       "      <td>Action, Adventure, Sci-Fi</td>\n",
       "      <td>149.0</td>\n",
       "      <td>NaN</td>\n",
       "      <td>Anthony Russo, Joe Russo</td>\n",
       "    </tr>\n",
       "  </tbody>\n",
       "</table>\n",
       "</div>"
      ],
      "text/plain": [
       "                                               title  \\\n",
       "0                                  Avengers: Endgame   \n",
       "1                                             Avatar   \n",
       "2                                            Titanic   \n",
       "3  Star Wars: The Force Awakens World Premiere Re...   \n",
       "4                             Avengers: Infinity War   \n",
       "\n",
       "                                genre  runtime  \\\n",
       "0           Action, Adventure, Sci-Fi    181.0   \n",
       "1  Action, Adventure, Fantasy, Sci-Fi    162.0   \n",
       "2                      Drama, Romance    194.0   \n",
       "3                                 NaN      NaN   \n",
       "4           Action, Adventure, Sci-Fi    149.0   \n",
       "\n",
       "                                              awards                  director  \n",
       "0                                                NaN  Anthony Russo, Joe Russo  \n",
       "1   Won 3 Oscars. Another 85 wins & 128 nominations.             James Cameron  \n",
       "2  Won 11 Oscars. Another 111 wins & 77 nominations.             James Cameron  \n",
       "3                                                NaN                       NaN  \n",
       "4                                                NaN  Anthony Russo, Joe Russo  "
      ]
     },
     "execution_count": 6,
     "metadata": {},
     "output_type": "execute_result"
    }
   ],
   "source": [
    "runtime_path = 'Resources/movies_runtime.csv'\n",
    "runtime_df = pd.read_csv(runtime_path)\n",
    "print(len(runtime_df))\n",
    "runtime_df = runtime_df[['movies', 'Genre', 'Runtime', 'Awards', 'Director']]\n",
    "runtime_df.columns = ['title', 'genre', 'runtime', 'awards', 'director']\n",
    "runtime_df.head()"
   ]
  },
  {
   "cell_type": "markdown",
   "metadata": {},
   "source": [
    "# Create database connection"
   ]
  },
  {
   "cell_type": "code",
   "execution_count": 7,
   "metadata": {},
   "outputs": [],
   "source": [
    "conn_string = f\"postgres:{pw}@localhost:5432/movie_db\"\n",
    "engine = create_engine(f'postgresql://{conn_string}')"
   ]
  },
  {
   "cell_type": "code",
   "execution_count": 8,
   "metadata": {},
   "outputs": [],
   "source": [
    "top700_mojo.to_sql(name='mojo_top_grossing', con=engine, if_exists='append', index=False)"
   ]
  },
  {
   "cell_type": "code",
   "execution_count": 9,
   "metadata": {},
   "outputs": [],
   "source": [
    "sf_film_locations.to_sql(name='SF_movie_locations', con=engine, if_exists='append', index=True)"
   ]
  },
  {
   "cell_type": "code",
   "execution_count": 10,
   "metadata": {},
   "outputs": [],
   "source": [
    "movie_budgets.to_sql(name='kaggle_movies', con=engine, if_exists='append', index=False)"
   ]
  },
  {
   "cell_type": "code",
   "execution_count": 11,
   "metadata": {},
   "outputs": [],
   "source": [
    "runtime_df.to_sql(name='film_runtime_awards', con=engine, if_exists='append', index=False)"
   ]
  },
  {
   "cell_type": "code",
   "execution_count": null,
   "metadata": {},
   "outputs": [],
   "source": []
  }
 ],
 "metadata": {
  "kernelspec": {
   "display_name": "Python 3",
   "language": "python",
   "name": "python3"
  },
  "language_info": {
   "codemirror_mode": {
    "name": "ipython",
    "version": 3
   },
   "file_extension": ".py",
   "mimetype": "text/x-python",
   "name": "python",
   "nbconvert_exporter": "python",
   "pygments_lexer": "ipython3",
   "version": "3.6.9"
  }
 },
 "nbformat": 4,
 "nbformat_minor": 2
}
